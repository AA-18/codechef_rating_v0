{
 "cells": [
  {
   "cell_type": "code",
   "execution_count": 13,
   "metadata": {},
   "outputs": [],
   "source": [
    "from bs4 import BeautifulSoup as soup\n",
    "import requests\n",
    "import json"
   ]
  },
  {
   "cell_type": "code",
   "execution_count": 14,
   "metadata": {},
   "outputs": [],
   "source": [
    "contest_code = \"COOK114B\"\n",
    "\n",
    "\n",
    "cookies = {\n",
    "    'AWSALB': 'KKKs0VDKk/yF3OBxOFKj9CEaYmSetuvRIjDfxDJMhf6rvsvW7mIELu7n2ntx1ps1f3NgO3/scCo+4uz/RQ7QWR3soJ69T8hvkp+El/nIedxWop7JXql1k7iRDzpF',\n",
    "    '_gcl_au': '1.1.1228744326.1578219244',\n",
    "    'hibext_instdsigdipv2': '1',\n",
    "    '_ga': 'GA1.2.217296787.1578219247',\n",
    "    '__utma': '100380940.217296787.1578219247.1579458454.1579461662.17',\n",
    "    '__utmz': '100380940.1578841865.10.6.utmcsr=contest_listing|utmccn=COOK112|utmcmd=link',\n",
    "    '_fbp': 'fb.1.1578219247395.1192017011',\n",
    "    '_hjid': 'ddd8b167-eac7-4f15-ac06-63c0ac228c16',\n",
    "    'poll_time': '1579462489619',\n",
    "    '__auc': '47ba20d416f7532f25e1537dd10',\n",
    "    'notification': '0',\n",
    "    '_gid': 'GA1.2.1610887628.1579341152',\n",
    "    '__utmc': '100380940',\n",
    "    '__utmb': '100380940.7.10.1579461662',\n",
    "    '__asc': 'dfd2a20616fbf40ee236a3f7881',\n",
    "    'SESS93b6022d778ee317bf48f7dbffe03173': 'n648qtg4raj080ihg172an0b24',\n",
    "    '__utmt': '1',\n",
    "    '_gat_UA-83576305-2': '1',\n",
    "    '_gat_UA-141612136-1': '1',\n",
    "    'userkey': '68867eef536146d5e781ec1b20cce0aa',\n",
    "}\n",
    "\n",
    "headers = {\n",
    "    'User-Agent': 'Mozilla/5.0 (Macintosh; Intel Mac OS X 10.13; rv:72.0) Gecko/20100101 Firefox/72.0',\n",
    "    'Accept': 'application/json, text/javascript, */*; q=0.01',\n",
    "    'Accept-Language': 'en-US,en;q=0.5',\n",
    "    'x-csrf-token': 'dfd6baabfd61c28996df3fbc9310e017',\n",
    "    'X-Requested-With': 'XMLHttpRequest',\n",
    "    'Connection': 'keep-alive',\n",
    "    'Referer': 'https://www.codechef.com/rankings/COOK114A',\n",
    "    'Cache-Control': 'max-age=0',\n",
    "    'TE': 'Trailers',\n",
    "}\n",
    "\n",
    "params = (\n",
    "    ('sortBy', 'rank'),\n",
    "    ('order', 'asc'),\n",
    "    ('page', '1'),\n",
    "    ('itemsPerPage', '25'),\n",
    ")\n",
    "\n",
    "response = requests.get('https://www.codechef.com/api/rankings/COOK114A', headers=headers, params=params, cookies=cookies)\n",
    "\n",
    "\n"
   ]
  },
  {
   "cell_type": "code",
   "execution_count": 15,
   "metadata": {},
   "outputs": [
    {
     "name": "stdout",
     "output_type": "stream",
     "text": [
      "{'contest_info': {'contest_code': 'COOK114B', 'type': '1', 'is_team_based': False, 'is_ranklist_frozen': False, 'time': {'start': 1579449602, 'end': 1579458602, 'current': 1579464468, 'freezing': 1579458602}, 'unscored_problems': ['PLIND', 'CNTIT']}, 'problems': [{'code': 'PLIND', 'name': 'Almost Palindromic'}, {'code': 'CHFCHK', 'name': 'Chef Chick'}, {'code': 'EXAMCHT', 'name': 'Exam Cheating'}, {'code': 'PRT', 'name': 'Profitable Paths'}, {'code': 'CNTIT', 'name': 'Count It'}, {'code': 'RGAND', 'name': 'Range AND'}, {'code': 'CFINASUM', 'name': 'Chefina and Sums'}], 'list': [{'rank': 1, 'user_handle': 'shidan3101', 'name': 'Danil', 'score': 5, 'total_time': '06:12:03', 'penalty': 7, 'country': 'Russia', 'country_code': 'RU', 'institution': 'Izhevsk State Technical University', 'institution_type': 'College', 'rating': '1339', 'html_handle': \"<span \\n            class='rating' \\n            style='display: inline-block; \\n                    font-size: 10px; \\n                    background: #666666;\\n                    padding: 0 3px; \\n                    line-height: 1.3; \\n                    color: white;\\n                    margin-right: 2px;'>1&#9733;</span><span>shidan3101</span>\", 'problems_status': {'CHFCHK': {'score': 1, 'time': '00:40:54', 'penalty': 0}, 'EXAMCHT': {'score': 1, 'time': '00:45:52', 'penalty': 0}, 'PRT': {'score': 1, 'time': '01:18:16', 'penalty': 4}, 'RGAND': {'score': 1, 'time': '01:26:44', 'penalty': 2}, 'CFINASUM': {'score': 1, 'time': '02:00:07', 'penalty': 1}}}, {'rank': 2, 'user_handle': 'accio_ac', 'name': 'Harry', 'score': 5, 'total_time': '06:20:37', 'penalty': 5, 'country': 'Germany', 'country_code': 'DE', 'institution': '', 'institution_type': None, 'rating': '1543', 'html_handle': \"<span \\n            class='rating' \\n            style='display: inline-block; \\n                    font-size: 10px; \\n                    background: #1E7D22;\\n                    padding: 0 3px; \\n                    line-height: 1.3; \\n                    color: white;\\n                    margin-right: 2px;'>2&#9733;</span><span>accio_ac</span>\", 'problems_status': {'CHFCHK': {'score': 1, 'time': '00:47:24', 'penalty': 0}, 'EXAMCHT': {'score': 1, 'time': '00:49:40', 'penalty': 1}, 'PRT': {'score': 1, 'time': '00:24:35', 'penalty': 0}, 'RGAND': {'score': 1, 'time': '02:14:14', 'penalty': 4}, 'CFINASUM': {'score': 1, 'time': '02:04:34', 'penalty': 0}}}, {'rank': 3, 'user_handle': 'lucina101', 'name': 'Supakorn Kijwattanachai', 'score': 5, 'total_time': '07:23:10', 'penalty': 11, 'country': 'Thailand', 'country_code': 'TH', 'institution': 'Chulalongkorn University', 'institution_type': 'College', 'rating': '1437', 'html_handle': \"<span \\n            class='rating' \\n            style='display: inline-block; \\n                    font-size: 10px; \\n                    background: #1E7D22;\\n                    padding: 0 3px; \\n                    line-height: 1.3; \\n                    color: white;\\n                    margin-right: 2px;'>2&#9733;</span><span>lucina101</span>\", 'problems_status': {'CHFCHK': {'score': 1, 'time': '00:11:34', 'penalty': 0}, 'EXAMCHT': {'score': 1, 'time': '00:28:46', 'penalty': 1}, 'PRT': {'score': 1, 'time': '03:57:34', 'penalty': 9}, 'RGAND': {'score': 1, 'time': '00:28:18', 'penalty': 0}, 'CFINASUM': {'score': 1, 'time': '02:16:48', 'penalty': 1}}}, {'rank': 4, 'user_handle': 'sharepo', 'name': 'sharepo', 'score': 4, 'total_time': '02:43:29', 'penalty': 6, 'country': 'Belarus', 'country_code': 'BY', 'institution': 'Saint Petersburg National Research University of Information Technologies, Mechanics and Optics', 'institution_type': 'College', 'rating': '1711', 'html_handle': \"<span \\n            class='rating' \\n            style='display: inline-block; \\n                    font-size: 10px; \\n                    background: #3366CC;\\n                    padding: 0 3px; \\n                    line-height: 1.3; \\n                    color: white;\\n                    margin-right: 2px;'>3&#9733;</span><span>sharepo</span>\", 'problems_status': {'CHFCHK': {'score': 1, 'time': '00:45:16', 'penalty': 0}, 'EXAMCHT': {'score': 1, 'time': '00:03:35', 'penalty': 0}, 'RGAND': {'score': 1, 'time': '00:11:18', 'penalty': 0}, 'CFINASUM': {'score': 1, 'time': '01:43:12', 'penalty': 6}}}, {'rank': 5, 'user_handle': 'ayushj_94', 'name': 'Ayush Jaiswal', 'score': 4, 'total_time': '04:16:23', 'penalty': 2, 'country': 'India', 'country_code': 'IN', 'institution': 'National Institute of Technology, Uttarakhand', 'institution_type': 'College', 'rating': '1621', 'html_handle': \"<span \\n            class='rating' \\n            style='display: inline-block; \\n                    font-size: 10px; \\n                    background: #3366CC;\\n                    padding: 0 3px; \\n                    line-height: 1.3; \\n                    color: white;\\n                    margin-right: 2px;'>3&#9733;</span><span>ayushj_94</span>\", 'problems_status': {'CHFCHK': {'score': 1, 'time': '00:22:32', 'penalty': 0}, 'EXAMCHT': {'score': 1, 'time': '00:52:23', 'penalty': 1}, 'PRT': {'score': 1, 'time': '02:00:18', 'penalty': 1}, 'RGAND': {'score': 1, 'time': '01:01:02', 'penalty': 0}}}, {'rank': 6, 'user_handle': 'serotonin', 'name': 'Ayon Shahrier', 'score': 4, 'total_time': '04:42:12', 'penalty': 1, 'country': 'Bangladesh', 'country_code': 'BD', 'institution': 'University of Dhaka', 'institution_type': 'College', 'rating': '0', 'html_handle': \"<span \\n            class='rating' \\n            style='display: inline-block; \\n                    font-size: 10px; \\n                    background: #666666;\\n                    padding: 0 3px; \\n                    line-height: 1.3; \\n                    color: white;\\n                    margin-right: 2px;'>1&#9733;</span><span>serotonin</span>\", 'problems_status': {'CHFCHK': {'score': 1, 'time': '00:51:59', 'penalty': 0}, 'EXAMCHT': {'score': 1, 'time': '00:57:52', 'penalty': 0}, 'PRT': {'score': 1, 'time': '00:45:58', 'penalty': 0}, 'RGAND': {'score': 1, 'time': '02:06:15', 'penalty': 1}}}, {'rank': 7, 'user_handle': 'nikhil982000', 'name': 'Nikhil Choudhary', 'score': 4, 'total_time': '04:54:01', 'penalty': 6, 'country': 'India', 'country_code': 'IN', 'institution': 'Indian Institute of Technology Roorkee', 'institution_type': 'College', 'rating': '1769', 'html_handle': \"<span \\n            class='rating' \\n            style='display: inline-block; \\n                    font-size: 10px; \\n                    background: #3366CC;\\n                    padding: 0 3px; \\n                    line-height: 1.3; \\n                    color: white;\\n                    margin-right: 2px;'>3&#9733;</span><span>nikhil982000</span>\", 'problems_status': {'CHFCHK': {'score': 1, 'time': '00:14:33', 'penalty': 0}, 'EXAMCHT': {'score': 1, 'time': '00:10:46', 'penalty': 0}, 'RGAND': {'score': 1, 'time': '01:58:07', 'penalty': 3}, 'CFINASUM': {'score': 1, 'time': '02:30:27', 'penalty': 3}}}, {'rank': 8, 'user_handle': 'psychik', 'name': 'Ishmeet Singh Saggu', 'score': 4, 'total_time': '04:56:22', 'penalty': 2, 'country': 'India', 'country_code': 'IN', 'institution': '', 'institution_type': None, 'rating': '1707', 'html_handle': \"<span \\n            class='rating' \\n            style='display: inline-block; \\n                    font-size: 10px; \\n                    background: #3366CC;\\n                    padding: 0 3px; \\n                    line-height: 1.3; \\n                    color: white;\\n                    margin-right: 2px;'>3&#9733;</span><span>psychik</span>\", 'problems_status': {'CHFCHK': {'score': 1, 'time': '00:49:06', 'penalty': 0}, 'EXAMCHT': {'score': 1, 'time': '01:08:33', 'penalty': 0}, 'PRT': {'score': 1, 'time': '00:36:09', 'penalty': 0}, 'RGAND': {'score': 1, 'time': '02:22:26', 'penalty': 2}}}, {'rank': 9, 'user_handle': 'snufkin02', 'name': 'Bamdad Torabi', 'score': 4, 'total_time': '05:26:35', 'penalty': 3, 'country': 'Iran', 'country_code': 'IR', 'institution': 'Allameh Helli High Schools', 'institution_type': 'School', 'rating': '0', 'html_handle': \"<span \\n            class='rating' \\n            style='display: inline-block; \\n                    font-size: 10px; \\n                    background: #666666;\\n                    padding: 0 3px; \\n                    line-height: 1.3; \\n                    color: white;\\n                    margin-right: 2px;'>1&#9733;</span><span>snufkin02</span>\", 'problems_status': {'CHFCHK': {'score': 1, 'time': '00:41:57', 'penalty': 0}, 'EXAMCHT': {'score': 1, 'time': '00:20:22', 'penalty': 0}, 'PRT': {'score': 1, 'time': '02:10:00', 'penalty': 0}, 'RGAND': {'score': 1, 'time': '02:14:08', 'penalty': 3}}}, {'rank': 10, 'user_handle': 'crazy_hunter', 'name': 'suresh yadav', 'score': 4, 'total_time': '05:27:21', 'penalty': 13, 'country': 'India', 'country_code': 'IN', 'institution': 'Indian Institute of Technology Gandhinagar', 'institution_type': 'College', 'rating': '1769', 'html_handle': \"<span \\n            class='rating' \\n            style='display: inline-block; \\n                    font-size: 10px; \\n                    background: #3366CC;\\n                    padding: 0 3px; \\n                    line-height: 1.3; \\n                    color: white;\\n                    margin-right: 2px;'>3&#9733;</span><span>crazy_hunter</span>\", 'problems_status': {'CHFCHK': {'score': 1, 'time': '00:16:07', 'penalty': 0}, 'EXAMCHT': {'score': 1, 'time': '00:11:12', 'penalty': 0}, 'PRT': {'score': 1, 'time': '03:00:16', 'penalty': 7}, 'RGAND': {'score': 1, 'time': '01:59:38', 'penalty': 6}}}, {'rank': 11, 'user_handle': 'dylan_smith', 'name': 'Dylan Smith', 'score': 4, 'total_time': '08:45:26', 'penalty': 8, 'country': 'United States', 'country_code': 'US', 'institution': '', 'institution_type': None, 'rating': '0', 'html_handle': \"<span \\n            class='rating' \\n            style='display: inline-block; \\n                    font-size: 10px; \\n                    background: #666666;\\n                    padding: 0 3px; \\n                    line-height: 1.3; \\n                    color: white;\\n                    margin-right: 2px;'>1&#9733;</span><span>dylan_smith</span>\", 'problems_status': {'CHFCHK': {'score': 1, 'time': '01:55:30', 'penalty': 0}, 'EXAMCHT': {'score': 1, 'time': '02:36:17', 'penalty': 5}, 'RGAND': {'score': 1, 'time': '01:36:25', 'penalty': 2}, 'CFINASUM': {'score': 1, 'time': '02:37:06', 'penalty': 1}}}, {'rank': 12, 'user_handle': 'trangiahuy1508', 'name': 'Huy Trần Gia', 'score': 3, 'total_time': '01:40:15', 'penalty': 3, 'country': 'Vietnam', 'country_code': 'VN', 'institution': 'Archimedes Academy School', 'institution_type': 'School', 'rating': '0', 'html_handle': \"<span \\n            class='rating' \\n            style='display: inline-block; \\n                    font-size: 10px; \\n                    background: #666666;\\n                    padding: 0 3px; \\n                    line-height: 1.3; \\n                    color: white;\\n                    margin-right: 2px;'>1&#9733;</span><span>trangiahuy1508</span>\", 'problems_status': {'CHFCHK': {'score': 1, 'time': '00:30:43', 'penalty': 1}, 'EXAMCHT': {'score': 1, 'time': '00:21:10', 'penalty': 1}, 'RGAND': {'score': 1, 'time': '00:48:16', 'penalty': 1}}}, {'rank': 13, 'user_handle': 'falcon_7', 'name': 'Falcon', 'score': 3, 'total_time': '01:50:51', 'penalty': 2, 'country': 'India', 'country_code': 'IN', 'institution': 'Sri Kumaran Public School, Bangalore', 'institution_type': 'School', 'rating': '1513', 'html_handle': \"<span \\n            class='rating' \\n            style='display: inline-block; \\n                    font-size: 10px; \\n                    background: #1E7D22;\\n                    padding: 0 3px; \\n                    line-height: 1.3; \\n                    color: white;\\n                    margin-right: 2px;'>2&#9733;</span><span>falcon_7</span>\", 'problems_status': {'CHFCHK': {'score': 1, 'time': '00:09:08', 'penalty': 0}, 'EXAMCHT': {'score': 1, 'time': '00:25:57', 'penalty': 1}, 'RGAND': {'score': 1, 'time': '01:15:40', 'penalty': 1}}}, {'rank': 14, 'user_handle': 'katsurap', 'name': 'yrzya 819', 'score': 3, 'total_time': '01:55:28', 'penalty': 3, 'country': 'India', 'country_code': 'IN', 'institution': '', 'institution_type': None, 'rating': '0', 'html_handle': \"<span \\n            class='rating' \\n            style='display: inline-block; \\n                    font-size: 10px; \\n                    background: #666666;\\n                    padding: 0 3px; \\n                    line-height: 1.3; \\n                    color: white;\\n                    margin-right: 2px;'>1&#9733;</span><span>katsurap</span>\", 'problems_status': {'CHFCHK': {'score': 1, 'time': '00:24:43', 'penalty': 1}, 'EXAMCHT': {'score': 1, 'time': '00:20:19', 'penalty': 0}, 'RGAND': {'score': 1, 'time': '01:10:20', 'penalty': 2}}}, {'rank': 15, 'user_handle': 'swodashkrad', 'name': 'SwodashKrad', 'score': 3, 'total_time': '02:03:45', 'penalty': 2, 'country': 'United Kingdom', 'country_code': 'GB', 'institution': '', 'institution_type': None, 'rating': '0', 'html_handle': \"<span \\n            class='rating' \\n            style='display: inline-block; \\n                    font-size: 10px; \\n                    background: #666666;\\n                    padding: 0 3px; \\n                    line-height: 1.3; \\n                    color: white;\\n                    margin-right: 2px;'>1&#9733;</span><span>swodashkrad</span>\", 'problems_status': {'CHFCHK': {'score': 1, 'time': '00:36:58', 'penalty': 0}, 'EXAMCHT': {'score': 1, 'time': '00:12:33', 'penalty': 0}, 'RGAND': {'score': 1, 'time': '01:14:08', 'penalty': 2}}}, {'rank': 16, 'user_handle': 'himanshu746', 'name': 'Himanshu Pareek', 'score': 3, 'total_time': '02:09:41', 'penalty': 0, 'country': 'India', 'country_code': 'IN', 'institution': 'Indian Institute of Technology Kharagpur', 'institution_type': 'College', 'rating': '1668', 'html_handle': \"<span \\n            class='rating' \\n            style='display: inline-block; \\n                    font-size: 10px; \\n                    background: #3366CC;\\n                    padding: 0 3px; \\n                    line-height: 1.3; \\n                    color: white;\\n                    margin-right: 2px;'>3&#9733;</span><span>himanshu746</span>\", 'problems_status': {'CHFCHK': {'score': 1, 'time': '00:36:13', 'penalty': 0}, 'EXAMCHT': {'score': 1, 'time': '00:09:19', 'penalty': 0}, 'CFINASUM': {'score': 1, 'time': '01:24:03', 'penalty': 0}}}, {'rank': 17, 'user_handle': 'krritik', 'name': 'Ritik Kumar', 'score': 3, 'total_time': '02:40:55', 'penalty': 2, 'country': 'India', 'country_code': 'IN', 'institution': 'Indian Institute of Technology Kharagpur', 'institution_type': 'College', 'rating': '1729', 'html_handle': \"<span \\n            class='rating' \\n            style='display: inline-block; \\n                    font-size: 10px; \\n                    background: #3366CC;\\n                    padding: 0 3px; \\n                    line-height: 1.3; \\n                    color: white;\\n                    margin-right: 2px;'>3&#9733;</span><span>krritik</span>\", 'problems_status': {'CHFCHK': {'score': 1, 'time': '00:13:15', 'penalty': 0}, 'EXAMCHT': {'score': 1, 'time': '00:08:04', 'penalty': 0}, 'RGAND': {'score': 1, 'time': '02:19:30', 'penalty': 2}}}, {'rank': 18, 'user_handle': 'codingbro01', 'name': 'Munnu', 'score': 3, 'total_time': '02:46:17', 'penalty': 1, 'country': 'India', 'country_code': 'IN', 'institution': '', 'institution_type': None, 'rating': '1764', 'html_handle': \"<span \\n            class='rating' \\n            style='display: inline-block; \\n                    font-size: 10px; \\n                    background: #3366CC;\\n                    padding: 0 3px; \\n                    line-height: 1.3; \\n                    color: white;\\n                    margin-right: 2px;'>3&#9733;</span><span>codingbro01</span>\", 'problems_status': {'CHFCHK': {'score': 1, 'time': '00:39:48', 'penalty': 0}, 'EXAMCHT': {'score': 1, 'time': '00:27:54', 'penalty': 0}, 'RGAND': {'score': 1, 'time': '01:38:29', 'penalty': 1}}}, {'rank': 19, 'user_handle': 'thirsch7', 'name': 'Toby Hirsch', 'score': 3, 'total_time': '02:48:31', 'penalty': 0, 'country': 'United States', 'country_code': 'US', 'institution': 'Greenwich High School', 'institution_type': 'School', 'rating': '1616', 'html_handle': \"<span \\n            class='rating' \\n            style='display: inline-block; \\n                    font-size: 10px; \\n                    background: #3366CC;\\n                    padding: 0 3px; \\n                    line-height: 1.3; \\n                    color: white;\\n                    margin-right: 2px;'>3&#9733;</span><span>thirsch7</span>\", 'problems_status': {'CHFCHK': {'score': 1, 'time': '00:17:03', 'penalty': 0}, 'EXAMCHT': {'score': 1, 'time': '00:27:06', 'penalty': 0}, 'RGAND': {'score': 1, 'time': '02:04:16', 'penalty': 0}}}, {'rank': 20, 'user_handle': 'roberticey', 'name': 'Sanchit', 'score': 3, 'total_time': '02:49:40', 'penalty': 4, 'country': 'India', 'country_code': 'IN', 'institution': 'Indian Institute of Technology Kanpur', 'institution_type': 'College', 'rating': '1700', 'html_handle': \"<span \\n            class='rating' \\n            style='display: inline-block; \\n                    font-size: 10px; \\n                    background: #3366CC;\\n                    padding: 0 3px; \\n                    line-height: 1.3; \\n                    color: white;\\n                    margin-right: 2px;'>3&#9733;</span><span>roberticey</span>\", 'problems_status': {'CHFCHK': {'score': 1, 'time': '00:17:36', 'penalty': 0}, 'EXAMCHT': {'score': 1, 'time': '00:12:21', 'penalty': 0}, 'RGAND': {'score': 1, 'time': '02:19:37', 'penalty': 4}}}, {'rank': 21, 'user_handle': 'bigb241998', 'name': 'Akhand', 'score': 3, 'total_time': '02:51:08', 'penalty': 1, 'country': 'India', 'country_code': 'IN', 'institution': 'Meerut Institute of Technology and Technology', 'institution_type': 'College', 'rating': '1724', 'html_handle': \"<span \\n            class='rating' \\n            style='display: inline-block; \\n                    font-size: 10px; \\n                    background: #3366CC;\\n                    padding: 0 3px; \\n                    line-height: 1.3; \\n                    color: white;\\n                    margin-right: 2px;'>3&#9733;</span><span>bigb241998</span>\", 'problems_status': {'CHFCHK': {'score': 1, 'time': '00:18:03', 'penalty': 0}, 'EXAMCHT': {'score': 1, 'time': '00:36:39', 'penalty': 0}, 'RGAND': {'score': 1, 'time': '01:56:20', 'penalty': 1}}}, {'rank': 22, 'user_handle': 'e_tisbew', 'name': 'Alan', 'score': 3, 'total_time': '02:53:57', 'penalty': 4, 'country': 'India', 'country_code': 'IN', 'institution': 'Lovely Professional University', 'institution_type': 'College', 'rating': '1780', 'html_handle': \"<span \\n            class='rating' \\n            style='display: inline-block; \\n                    font-size: 10px; \\n                    background: #3366CC;\\n                    padding: 0 3px; \\n                    line-height: 1.3; \\n                    color: white;\\n                    margin-right: 2px;'>3&#9733;</span><span>e_tisbew</span>\", 'problems_status': {'CHFCHK': {'score': 1, 'time': '00:11:41', 'penalty': 0}, 'EXAMCHT': {'score': 1, 'time': '00:18:54', 'penalty': 0}, 'RGAND': {'score': 1, 'time': '02:23:16', 'penalty': 4}}}, {'rank': 23, 'user_handle': 'mr69', 'name': 'Maruf Hussain', 'score': 3, 'total_time': '02:57:17', 'penalty': 1, 'country': 'India', 'country_code': 'IN', 'institution': 'Indian Institute of Technology, Jodhpur', 'institution_type': 'College', 'rating': '1708', 'html_handle': \"<span \\n            class='rating' \\n            style='display: inline-block; \\n                    font-size: 10px; \\n                    background: #3366CC;\\n                    padding: 0 3px; \\n                    line-height: 1.3; \\n                    color: white;\\n                    margin-right: 2px;'>3&#9733;</span><span>mr69</span>\", 'problems_status': {'CHFCHK': {'score': 1, 'time': '00:35:41', 'penalty': 0}, 'EXAMCHT': {'score': 1, 'time': '00:34:44', 'penalty': 1}, 'RGAND': {'score': 1, 'time': '01:46:46', 'penalty': 0}}}, {'rank': 24, 'user_handle': 'adiah', 'name': '.', 'score': 3, 'total_time': '03:03:34', 'penalty': 3, 'country': 'India', 'country_code': 'IN', 'institution': 'Birla Institute of Technology & Science Pilani, Goa Campus', 'institution_type': 'College', 'rating': '0', 'html_handle': \"<span \\n            class='rating' \\n            style='display: inline-block; \\n                    font-size: 10px; \\n                    background: #666666;\\n                    padding: 0 3px; \\n                    line-height: 1.3; \\n                    color: white;\\n                    margin-right: 2px;'>1&#9733;</span><span>adiah</span>\", 'problems_status': {'CHFCHK': {'score': 1, 'time': '00:14:18', 'penalty': 0}, 'EXAMCHT': {'score': 1, 'time': '00:20:17', 'penalty': 0}, 'RGAND': {'score': 1, 'time': '02:28:53', 'penalty': 3}}}, {'rank': 25, 'user_handle': 'roy10', 'name': 'Tathagato Roy', 'score': 3, 'total_time': '03:08:22', 'penalty': 3, 'country': 'India', 'country_code': 'IN', 'institution': 'International Institute of Information Technology, Hyderabad', 'institution_type': 'College', 'rating': '1700', 'html_handle': \"<span \\n            class='rating' \\n            style='display: inline-block; \\n                    font-size: 10px; \\n                    background: #3366CC;\\n                    padding: 0 3px; \\n                    line-height: 1.3; \\n                    color: white;\\n                    margin-right: 2px;'>3&#9733;</span><span>roy10</span>\", 'problems_status': {'CHFCHK': {'score': 1, 'time': '00:45:38', 'penalty': 1}, 'EXAMCHT': {'score': 1, 'time': '00:30:35', 'penalty': 1}, 'RGAND': {'score': 1, 'time': '01:52:03', 'penalty': 1}}}], 'refreshTime': 120, 'totalItems': 3245, 'selectedItems': 3245, 'availablePages': 130, 'page_me': -1, 'rank_and_score': None}\n"
     ]
    }
   ],
   "source": [
    "response = requests.get('https://www.codechef.com/api/rankings/{}'.format(contest_code), headers=headers, params=params, cookies=cookies)\n",
    "data = json.loads(response.content)\n",
    "print(data)"
   ]
  },
  {
   "cell_type": "code",
   "execution_count": 16,
   "metadata": {},
   "outputs": [],
   "source": [
    "pages_count = int(data['availablePages'])"
   ]
  },
  {
   "cell_type": "code",
   "execution_count": 17,
   "metadata": {},
   "outputs": [
    {
     "name": "stdout",
     "output_type": "stream",
     "text": [
      "{'status': 'rate_limit_exceeded'}\n"
     ]
    }
   ],
   "source": [
    "ranks = []\n",
    "handle = []\n",
    "\n",
    "for i in range(pages_count):\n",
    "    page_no = i+1\n",
    "    a = ('sortBy', 'rank')\n",
    "    b = ('order', 'asc')\n",
    "    c = ('page', str(page_no))\n",
    "    d = ('itemsPerPage', '100')\n",
    "    params_new = (a,b,c,d)\n",
    "    response = requests.get('https://www.codechef.com/api/rankings/{}'.format(contest_code), headers=headers, params=params_new, cookies=cookies)\n",
    "    data = json.loads(response.content)\n",
    "    if 'list' in data.keys():\n",
    "        data = data['list']\n",
    "    else:\n",
    "        print(data)\n",
    "        break\n",
    "    for d in data:\n",
    "        ranks.append(str(d['rank']))\n",
    "        handle.append(str(d['user_handle']))"
   ]
  },
  {
   "cell_type": "code",
   "execution_count": 18,
   "metadata": {},
   "outputs": [],
   "source": [
    "with open('Ranklist_{}.txt'.format(contest_code),'w') as f:\n",
    "    for j in range(len(ranks)):\n",
    "        line = ranks[j] + \" -> \" + handle[j] + '\\n'\n",
    "        f.write(line)"
   ]
  },
  {
   "cell_type": "code",
   "execution_count": null,
   "metadata": {},
   "outputs": [],
   "source": []
  }
 ],
 "metadata": {
  "kernelspec": {
   "display_name": "Python 3",
   "language": "python",
   "name": "python3"
  },
  "language_info": {
   "codemirror_mode": {
    "name": "ipython",
    "version": 3
   },
   "file_extension": ".py",
   "mimetype": "text/x-python",
   "name": "python",
   "nbconvert_exporter": "python",
   "pygments_lexer": "ipython3",
   "version": "3.6.5"
  }
 },
 "nbformat": 4,
 "nbformat_minor": 2
}
